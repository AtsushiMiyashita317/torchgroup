{
 "cells": [
  {
   "cell_type": "code",
   "execution_count": 1,
   "metadata": {},
   "outputs": [],
   "source": [
    "import torch\n",
    "import mytorch\n",
    "import mytorch.math as math\n",
    "from matplotlib import pyplot as plt"
   ]
  },
  {
   "cell_type": "code",
   "execution_count": 1,
   "metadata": {},
   "outputs": [],
   "source": [
    "class so3:\n",
    "    def __init__(self, n_iter) -> None:\n",
    "        x = torch.zeros(3,3,3,dtype=torch.double)\n",
    "        x[0,2,1] = 1\n",
    "        x[0,1,2] = -1\n",
    "        x[1,0,2] = 1\n",
    "        x[1,2,0] = -1\n",
    "        x[2,1,0] = 1\n",
    "        x[2,0,1] = -1\n",
    "        self.al = x\n",
    "        self.ad = x\n",
    "        \n",
    "        class element_impl(torch.autograd.Function):\n",
    "            @staticmethod\n",
    "            def forward(ctx:torch.autograd.function.FunctionCtx, w:torch.Tensor):\n",
    "                al = self.algebra(w.detach())\n",
    "                ad = self.adjoint(w.detach())\n",
    "                y = torch.matrix_exp(al)\n",
    "                ctx.save_for_backward(y,ad)\n",
    "                return y\n",
    "            \n",
    "            @staticmethod\n",
    "            def backward(ctx:torch.autograd.function.FunctionCtx, dy:torch.Tensor):\n",
    "                y,ad = ctx.saved_tensors\n",
    "                # r = torch.inverse(ad)@(torch.eye(3)-torch.matrix_exp(-ad))\n",
    "                r = torch.eye(3)\n",
    "                p = -ad/2\n",
    "                for i in range(n_iter):\n",
    "                    r += p\n",
    "                    p = -p@ad/(i+3)\n",
    "                dw = torch.einsum('...ij,...ik,...mn,mkj->...n',dy,y,r,self.al)\n",
    "                return dw\n",
    "            \n",
    "        self._element = element_impl.apply\n",
    "            \n",
    "    def algebra(self,w):\n",
    "        return torch.einsum('...i,ijk->...jk',w,self.al)\n",
    "    \n",
    "    def adjoint(self,w):\n",
    "        return torch.einsum('...i,ijk->...jk',w,self.ad)\n",
    "    \n",
    "    def element(self,w):\n",
    "        return self._element(w)\n"
   ]
  },
  {
   "cell_type": "code",
   "execution_count": 2,
   "metadata": {},
   "outputs": [],
   "source": [
    "class LieGroup:\n",
    "    def __init__(self) -> None:\n",
    "        pass\n",
    "    \n",
    "    def _create_element_function(self, pade_order):\n",
    "        assert pade_order>=2\n",
    "        k = torch.arange(1,2*pade_order)\n",
    "        c = -torch.cumprod(-1/k,-1)\n",
    "        a,b = math.pade(c,pade_order,pade_order)\n",
    "        \n",
    "        class element_impl(torch.autograd.Function):\n",
    "            @staticmethod\n",
    "            def forward(ctx:torch.autograd.function.FunctionCtx, w:torch.Tensor):\n",
    "                al = self.algebra(w.detach())\n",
    "                y = torch.matrix_exp(al)\n",
    "                ctx.save_for_backward(y,w.detach())\n",
    "                return y\n",
    "            \n",
    "            @staticmethod\n",
    "            def backward(ctx:torch.autograd.function.FunctionCtx, dy:torch.Tensor):\n",
    "                y,w = ctx.saved_tensors\n",
    "                ad = self.adjoint(w)\n",
    "                \n",
    "                p = a[0]*torch.eye(ad.shape[-1],device=dy.device)+a[1]*ad\n",
    "                q = b[0]*torch.eye(ad.shape[-1],device=dy.device)+b[1]*ad\n",
    "                r = ad\n",
    "                for i in range(2,pade_order):\n",
    "                    r = ad@r\n",
    "                    p = p + a[i]*r\n",
    "                    q = q + b[i]*r\n",
    "                r = p@torch.inverse(q)\n",
    "                dw = self.derivative(y, dy.conj())@r\n",
    "                # dw = torch.einsum('...ij,...ik,...mn,mkj->...n',dy,y,r,self.al)\n",
    "                return dw.conj()\n",
    "            \n",
    "        self.__element = element_impl.apply\n",
    "            \n",
    "    def algebra(self, w:torch.Tensor) -> torch.Tensor:\n",
    "        raise NotImplementedError(f\"LieGroup [{type(self).__name__}] is missing the required \\\"algebra\\\" function\")\n",
    "    \n",
    "    def adjoint(self, w:torch.Tensor) -> torch.Tensor:\n",
    "        raise NotImplementedError(f\"LieGroup [{type(self).__name__}] is missing the required \\\"adjoint\\\" function\")\n",
    "    \n",
    "    def derivative(self, y:torch.Tensor, dy:torch.Tensor) -> torch.Tensor:\n",
    "        raise NotImplementedError(f\"LieGroup [{type(self).__name__}] is missing the required \\\"derivative\\\" function\")\n",
    "    \n",
    "    def element(self, w:torch.Tensor) -> torch.Tensor:\n",
    "        return self.__element(w)\n"
   ]
  },
  {
   "cell_type": "code",
   "execution_count": 128,
   "metadata": {},
   "outputs": [],
   "source": [
    "class SO3(LieGroup):\n",
    "    def __init__(self) -> None:\n",
    "        super().__init__()\n",
    "        x = torch.zeros(3,3,3,dtype=torch.double)\n",
    "        x[0,2,1] = 1\n",
    "        x[0,1,2] = -1\n",
    "        x[1,0,2] = 1\n",
    "        x[1,2,0] = -1\n",
    "        x[2,1,0] = 1\n",
    "        x[2,0,1] = -1\n",
    "        self.al = x\n",
    "        self.ad = x\n",
    "        self._create_element_function(13)  \n",
    "            \n",
    "    def algebra(self,w):\n",
    "        return torch.einsum('...i,ijk->...jk',w,self.al)\n",
    "    \n",
    "    def adjoint(self,w):\n",
    "        return torch.einsum('...i,ijk->...jk',w,self.ad)\n",
    "    "
   ]
  },
  {
   "cell_type": "code",
   "execution_count": 117,
   "metadata": {},
   "outputs": [],
   "source": [
    "class SO(LieGroup):\n",
    "    def __init__(self, n:int, device=None) -> None:\n",
    "        super().__init__()\n",
    "        self.mdim = n\n",
    "        self.gdim = n*(n-1)//2\n",
    "        \n",
    "        al = torch.zeros(self.gdim,self.mdim,self.mdim,dtype=torch.int)\n",
    "        self.__index_al = torch.zeros(self.mdim,self.mdim,dtype=torch.long,device=device)\n",
    "        k = 0\n",
    "        for i in range(1,n):\n",
    "            for j in range(i):\n",
    "                al[k,i,j] = 1\n",
    "                al[k,j,i] = -1\n",
    "                self.__index_al[i,j] = k\n",
    "                self.__index_al[j,i] = k\n",
    "                k += 1\n",
    "        \n",
    "        self.__coef_al = al.sum(0).to(dtype=torch.double,device=device)\n",
    "        self.__index_al = self.__index_al.flatten()\n",
    "        \n",
    "        ad = torch.zeros(self.gdim,self.gdim,self.gdim,dtype=torch.int)\n",
    "        self.__index_ad = torch.zeros(self.gdim,self.gdim,dtype=torch.long,device=device)\n",
    "        for i in range(self.gdim):\n",
    "            ad[i] = self.vectorize(al[i]@al-al@al[i]).transpose(-2,-1)\n",
    "            self.__index_ad[ad[i]!=0] = i\n",
    "        \n",
    "        self.__coef_ad = ad.sum(0).to(dtype=torch.double,device=device)\n",
    "        self.__index_ad = self.__index_ad.flatten()\n",
    "        \n",
    "        self._create_element_function(9)\n",
    "        \n",
    "    def vectorize(self, x:torch.Tensor):\n",
    "        idx0,idx1 = mytorch.count_to_index(torch.arange(self.mdim))\n",
    "        return x[...,idx0,idx1]\n",
    "            \n",
    "    def algebra(self, w:torch.Tensor):\n",
    "        return w[...,self.__index_al].unflatten(-1,(self.mdim,self.mdim))*self.__coef_al\n",
    "        # return torch.einsum('...i,ijk->...jk',w,self.al)\n",
    "    \n",
    "    def adjoint(self, w:torch.Tensor):\n",
    "        return w[...,self.__index_ad].unflatten(-1,(self.gdim,self.gdim))*self.__coef_ad\n",
    "        # return torch.einsum('...i,ijk->...jk',w,self.ad)\n",
    "    \n",
    "    def derivative(self, y:torch.Tensor, dy:torch.Tensor):\n",
    "        return torch.zeros(\n",
    "            y.size()[:-2]+(self.gdim,), \n",
    "            dtype=y.dtype, \n",
    "            device=y.device\n",
    "        ).index_add_(\n",
    "            -1,\n",
    "            self.__index_al,\n",
    "            ((y.transpose(-2,-1)@dy)*self.__coef_al).flatten(-2)\n",
    "        )\n",
    "    "
   ]
  },
  {
   "cell_type": "code",
   "execution_count": 3,
   "metadata": {},
   "outputs": [],
   "source": [
    "class GW(LieGroup):\n",
    "    def __init__(self) -> None:\n",
    "        super().__init__()\n",
    "        self._create_element_function(9)\n",
    "        \n",
    "    def coef_al(self, dim:int, device=None):\n",
    "        return -1j*(torch.abs(torch.arange(dim,device=device)[:,None]-torch.arange(dim,device=device)[None,:])<=(dim-1)//2)*\\\n",
    "            torch.arange(-dim//2+1,dim//2+1,device=device,dtype=torch.double)\n",
    "    \n",
    "    def index_al(self, dim:int, device=None):\n",
    "        i = torch.nn.functional.pad(\n",
    "                torch.arange(\n",
    "                    dim,\n",
    "                    device=device,\n",
    "                    dtype=torch.long   \n",
    "                ),\n",
    "                [(dim-1)//2,(dim-1)//2]\n",
    "            )\n",
    "        return torch.as_strided(\n",
    "            i,\n",
    "            size=(dim,dim),\n",
    "            stride=(i.stride(-1),i.stride(-1))\n",
    "        ).flip([-2]).flatten()\n",
    "            \n",
    "    def algebra(self, w:torch.Tensor):\n",
    "        dim = w.shape[-1]\n",
    "        w_ = torch.nn.functional.pad(w,[(dim-1)//2,(dim-1)//2])\n",
    "        return torch.as_strided(\n",
    "            w_,\n",
    "            size=w_.shape[:-1]+(dim,dim),\n",
    "            stride=w_.stride()[:-1]+(w_.stride(-1),w_.stride(-1))\n",
    "        ).flip([-2]).mul(\n",
    "            -1j*torch.arange(-dim//2+1,dim//2+1,device=w.device,dtype=torch.double)\n",
    "        )\n",
    "        \n",
    "    def adjoint(self, w:torch.Tensor):\n",
    "        dim = w.shape[-1]\n",
    "        w_ = torch.nn.functional.pad(w,[(dim-1)//2,(dim-1)//2])\n",
    "        c = torch.arange(-3*(dim-1)//2,3*(dim-1)//2+1,device=w.device,dtype=torch.double)\n",
    "        return torch.as_strided(\n",
    "                w_,\n",
    "                size=w_.shape[:-1]+(dim,dim),\n",
    "                stride=w_.stride()[:-1]+(w_.stride(-1),w_.stride(-1))\n",
    "            ).flip([-1])*\\\n",
    "            torch.as_strided(\n",
    "                -1j*c,\n",
    "                size=(dim,dim),\n",
    "                stride=(c.stride(-1),2*c.stride(-1))\n",
    "            ).flip([-1])\n",
    "    \n",
    "    def derivative(self, y:torch.Tensor, dy:torch.Tensor):\n",
    "        return torch.zeros(\n",
    "            y.size()[:-2]+(y.size(-1),), \n",
    "            dtype=y.dtype, \n",
    "            device=y.device\n",
    "        ).index_add_(\n",
    "            -1,\n",
    "            self.index_al(y.size(-1), device=y.device),\n",
    "            ((y.transpose(-2,-1)@dy)*self.coef_al(y.size(-1), device=y.device)).flatten(-2)\n",
    "        )\n",
    "    \n",
    "    # def element(self, w: torch.Tensor) -> torch.Tensor:\n",
    "    #     return torch.matrix_exp(self.algebra(w))\n",
    "    "
   ]
  },
  {
   "cell_type": "code",
   "execution_count": 119,
   "metadata": {},
   "outputs": [
    {
     "name": "stdout",
     "output_type": "stream",
     "text": [
      "tensor([[0.+3.j, 0.+2.j, 0.+1.j, 0.+0.j, 0.+0.j, 0.+0.j, 0.+0.j],\n",
      "        [0.+3.j, 0.+2.j, 0.+1.j, 0.+0.j, 0.-1.j, 0.+0.j, 0.+0.j],\n",
      "        [0.+3.j, 0.+2.j, 0.+1.j, 0.+0.j, 0.-1.j, 0.-2.j, 0.+0.j],\n",
      "        [0.+3.j, 0.+2.j, 0.+1.j, 0.+0.j, 0.-1.j, 0.-2.j, 0.-3.j],\n",
      "        [0.+0.j, 0.+2.j, 0.+1.j, 0.+0.j, 0.-1.j, 0.-2.j, 0.-3.j],\n",
      "        [0.+0.j, 0.+0.j, 0.+1.j, 0.+0.j, 0.-1.j, 0.-2.j, 0.-3.j],\n",
      "        [0.+0.j, 0.+0.j, 0.+0.j, 0.+0.j, 0.-1.j, 0.-2.j, 0.-3.j]],\n",
      "       dtype=torch.complex128)\n",
      "tensor([3, 4, 5, 6, 0, 0, 0, 2, 3, 4, 5, 6, 0, 0, 1, 2, 3, 4, 5, 6, 0, 0, 1, 2,\n",
      "        3, 4, 5, 6, 0, 0, 1, 2, 3, 4, 5, 0, 0, 0, 1, 2, 3, 4, 0, 0, 0, 0, 1, 2,\n",
      "        3])\n"
     ]
    }
   ],
   "source": [
    "g = GW()\n",
    "print(g.coef_al(7))\n",
    "print(g.index_al(7))"
   ]
  },
  {
   "cell_type": "code",
   "execution_count": 120,
   "metadata": {},
   "outputs": [
    {
     "data": {
      "image/png": "[encoded data removed]",
      "text/plain": [
       "<Figure size 640x480 with 2 Axes>"
      ]
     },
     "metadata": {},
     "output_type": "display_data"
    }
   ],
   "source": [
    "g = GW()\n",
    "size = 513\n",
    "iter = 8\n",
    "w1 = torch.randn(size)+0j\n",
    "w1[1:] = w1[1:] + 1j*torch.randn(size-1)\n",
    "w1 = w1/torch.arange(1,size+1)**2*1e-2\n",
    "w1[16:] = 0\n",
    "w1 = torch.cat([w1[1:].flip([-1]).conj(),w1])\n",
    "w1 = w1.to(dtype=torch.complex128)\n",
    "L1 = g.algebra(w1)\n",
    "\n",
    "w2 = torch.randn(size)+0j\n",
    "w2[1:] = w2[1:] + 1j*torch.randn(size-1)\n",
    "w2 = w2/torch.arange(1,size+1)**2*1e-2\n",
    "w2[16:] = 0\n",
    "w2 = torch.cat([w2[1:].flip([-1]).conj(),w2])\n",
    "w2 = w2.to(dtype=torch.complex128)\n",
    "L2 = g.algebra(w2)\n",
    "\n",
    "CL = L2\n",
    "for i in range(iter):\n",
    "    CL = L1@CL-CL@L1\n",
    "\n",
    "Ad = g.adjoint(w1)\n",
    "w = w2\n",
    "for i in range(iter):\n",
    "    w = Ad@w\n",
    "CA = g.algebra(w)\n",
    "\n",
    "plt.imshow((CA-CL).abs().add(1e-5).log10())\n",
    "plt.colorbar()\n",
    "plt.show()"
   ]
  },
  {
   "cell_type": "code",
   "execution_count": 121,
   "metadata": {},
   "outputs": [
    {
     "ename": "GradcheckError",
     "evalue": "Jacobian mismatch for output 0 with respect to input 0,\nnumerical:tensor([[-5.8966e-03, -9.9945e-01,  3.0979e-03,  ...,  1.5226e-05,\n          1.1569e-05,  4.6796e-08],\n        [-1.0280e-02, -3.2028e-03, -9.9955e-01,  ..., -1.9792e-05,\n          1.8319e-05,  6.3222e-07],\n        [ 6.0973e-07, -5.0663e-03,  3.0390e-03,  ..., -2.5842e-05,\n         -6.0821e-06,  2.0206e-07],\n        ...,\n        [ 3.2169e-07, -1.5755e-05, -2.3154e-05,  ..., -5.0842e-03,\n          1.2298e-02,  2.8855e-03],\n        [-2.0595e-08, -1.4878e-05,  1.9309e-05,  ...,  9.9967e-01,\n          2.2427e-03,  3.8410e-03],\n        [-4.2927e-07, -1.1387e-05, -1.8292e-05,  ..., -2.2568e-03,\n          9.9968e-01,  4.1756e-04]], dtype=torch.float64)\nanalytical:tensor([[-5.8969e-03, -9.9998e-01,  3.1804e-03,  ...,  4.6177e-05,\n          3.4821e-05,  1.3579e-07],\n        [-1.0282e-02, -3.1191e-03, -9.9995e-01,  ..., -5.9665e-05,\n          5.3867e-05,  1.8906e-06],\n        [ 1.8334e-06, -5.1242e-03,  2.9816e-03,  ..., -7.6937e-05,\n         -1.8028e-05,  6.0946e-07],\n        ...,\n        [ 9.6899e-07, -4.7181e-05, -6.7861e-05,  ..., -5.1301e-03,\n          1.2228e-02,  2.8861e-03],\n        [-6.9706e-08, -4.4127e-05,  5.7611e-05,  ...,  9.9999e-01,\n          2.2483e-03,  3.8414e-03],\n        [-1.2943e-06, -3.4027e-05, -5.5952e-05,  ..., -2.2498e-03,\n          1.0000e+00,  4.1845e-04]], dtype=torch.float64)\n",
     "output_type": "error",
     "traceback": [
      "\u001b[0;31m---------------------------------------------------------------------------\u001b[0m",
      "\u001b[0;31mGradcheckError\u001b[0m                            Traceback (most recent call last)",
      "Cell \u001b[0;32mIn[121], line 5\u001b[0m\n\u001b[1;32m      3\u001b[0m g \u001b[39m=\u001b[39m SO(n,device\u001b[39m=\u001b[39mdevice)\n\u001b[1;32m      4\u001b[0m w \u001b[39m=\u001b[39m torch\u001b[39m.\u001b[39mrandn(g\u001b[39m.\u001b[39mgdim,requires_grad\u001b[39m=\u001b[39m\u001b[39mTrue\u001b[39;00m,dtype\u001b[39m=\u001b[39mtorch\u001b[39m.\u001b[39mdouble,device\u001b[39m=\u001b[39mdevice)\u001b[39m*\u001b[39m\u001b[39m1e-2\u001b[39m\n\u001b[0;32m----> 5\u001b[0m torch\u001b[39m.\u001b[39;49mautograd\u001b[39m.\u001b[39;49mgradcheck(g\u001b[39m.\u001b[39;49melement,w)\n",
      "File \u001b[0;32m~/gitrepo/torchgroup/.venv/lib/python3.8/site-packages/torch/autograd/gradcheck.py:1418\u001b[0m, in \u001b[0;36mgradcheck\u001b[0;34m(func, inputs, eps, atol, rtol, raise_exception, check_sparse_nnz, nondet_tol, check_undefined_grad, check_grad_dtypes, check_batched_grad, check_batched_forward_grad, check_forward_ad, check_backward_ad, fast_mode)\u001b[0m\n\u001b[1;32m   1416\u001b[0m         \u001b[39mreturn\u001b[39;00m \u001b[39mFalse\u001b[39;00m\n\u001b[1;32m   1417\u001b[0m \u001b[39melse\u001b[39;00m:\n\u001b[0;32m-> 1418\u001b[0m     \u001b[39mreturn\u001b[39;00m _gradcheck_helper(\u001b[39m*\u001b[39;49m\u001b[39m*\u001b[39;49margs)\n",
      "File \u001b[0;32m~/gitrepo/torchgroup/.venv/lib/python3.8/site-packages/torch/autograd/gradcheck.py:1432\u001b[0m, in \u001b[0;36m_gradcheck_helper\u001b[0;34m(func, inputs, eps, atol, rtol, check_sparse_nnz, nondet_tol, check_undefined_grad, check_grad_dtypes, check_batched_grad, check_batched_forward_grad, check_forward_ad, check_backward_ad, fast_mode)\u001b[0m\n\u001b[1;32m   1429\u001b[0m _check_outputs(outputs)\n\u001b[1;32m   1431\u001b[0m gradcheck_fn \u001b[39m=\u001b[39m _fast_gradcheck \u001b[39mif\u001b[39;00m fast_mode \u001b[39melse\u001b[39;00m _slow_gradcheck\n\u001b[0;32m-> 1432\u001b[0m _gradcheck_real_imag(gradcheck_fn, func, func_out, tupled_inputs, outputs, eps,\n\u001b[1;32m   1433\u001b[0m                      rtol, atol, check_grad_dtypes, check_forward_ad\u001b[39m=\u001b[39;49mcheck_forward_ad,\n\u001b[1;32m   1434\u001b[0m                      check_backward_ad\u001b[39m=\u001b[39;49mcheck_backward_ad, nondet_tol\u001b[39m=\u001b[39;49mnondet_tol,\n\u001b[1;32m   1435\u001b[0m                      check_undefined_grad\u001b[39m=\u001b[39;49mcheck_undefined_grad)\n\u001b[1;32m   1437\u001b[0m \u001b[39mif\u001b[39;00m check_batched_forward_grad:\n\u001b[1;32m   1438\u001b[0m     _test_batched_grad_forward_ad(func, tupled_inputs)\n",
      "File \u001b[0;32m~/gitrepo/torchgroup/.venv/lib/python3.8/site-packages/torch/autograd/gradcheck.py:1075\u001b[0m, in \u001b[0;36m_gradcheck_real_imag\u001b[0;34m(gradcheck_fn, func, func_out, tupled_inputs, outputs, eps, rtol, atol, check_grad_dtypes, check_forward_ad, check_backward_ad, nondet_tol, check_undefined_grad)\u001b[0m\n\u001b[1;32m   1072\u001b[0m         gradcheck_fn(real_fn, real_func_out, tupled_inputs, real_outputs, eps,\n\u001b[1;32m   1073\u001b[0m                      rtol, atol, check_grad_dtypes, nondet_tol, complex_indices\u001b[39m=\u001b[39mcomplex_out_indices)\n\u001b[1;32m   1074\u001b[0m     \u001b[39melse\u001b[39;00m:\n\u001b[0;32m-> 1075\u001b[0m         gradcheck_fn(func, func_out, tupled_inputs, outputs, eps,\n\u001b[1;32m   1076\u001b[0m                      rtol, atol, check_grad_dtypes, nondet_tol)\n\u001b[1;32m   1078\u001b[0m \u001b[39mif\u001b[39;00m check_forward_ad:\n\u001b[1;32m   1079\u001b[0m     complex_inp_indices \u001b[39m=\u001b[39m [i \u001b[39mfor\u001b[39;00m i, inp \u001b[39min\u001b[39;00m \u001b[39menumerate\u001b[39m(tupled_inputs) \u001b[39mif\u001b[39;00m is_tensor_like(inp) \u001b[39mand\u001b[39;00m inp\u001b[39m.\u001b[39mis_complex()]\n",
      "File \u001b[0;32m~/gitrepo/torchgroup/.venv/lib/python3.8/site-packages/torch/autograd/gradcheck.py:1131\u001b[0m, in \u001b[0;36m_slow_gradcheck\u001b[0;34m(func, func_out, tupled_inputs, outputs, eps, rtol, atol, check_grad_dtypes, nondet_tol, use_forward_ad, complex_indices, test_imag)\u001b[0m\n\u001b[1;32m   1129\u001b[0m         \u001b[39mfor\u001b[39;00m j, (a, n) \u001b[39min\u001b[39;00m \u001b[39menumerate\u001b[39m(\u001b[39mzip\u001b[39m(analytical, numerical[i])):\n\u001b[1;32m   1130\u001b[0m             \u001b[39mif\u001b[39;00m \u001b[39mnot\u001b[39;00m _allclose_with_type_promotion(a, n\u001b[39m.\u001b[39mto(a\u001b[39m.\u001b[39mdevice), rtol, atol):\n\u001b[0;32m-> 1131\u001b[0m                 \u001b[39mraise\u001b[39;00m GradcheckError(_get_notallclose_msg(a, n, i, j, complex_indices, test_imag))\n\u001b[1;32m   1133\u001b[0m \u001b[39mreturn\u001b[39;00m \u001b[39mTrue\u001b[39;00m\n",
      "\u001b[0;31mGradcheckError\u001b[0m: Jacobian mismatch for output 0 with respect to input 0,\nnumerical:tensor([[-5.8966e-03, -9.9945e-01,  3.0979e-03,  ...,  1.5226e-05,\n          1.1569e-05,  4.6796e-08],\n        [-1.0280e-02, -3.2028e-03, -9.9955e-01,  ..., -1.9792e-05,\n          1.8319e-05,  6.3222e-07],\n        [ 6.0973e-07, -5.0663e-03,  3.0390e-03,  ..., -2.5842e-05,\n         -6.0821e-06,  2.0206e-07],\n        ...,\n        [ 3.2169e-07, -1.5755e-05, -2.3154e-05,  ..., -5.0842e-03,\n          1.2298e-02,  2.8855e-03],\n        [-2.0595e-08, -1.4878e-05,  1.9309e-05,  ...,  9.9967e-01,\n          2.2427e-03,  3.8410e-03],\n        [-4.2927e-07, -1.1387e-05, -1.8292e-05,  ..., -2.2568e-03,\n          9.9968e-01,  4.1756e-04]], dtype=torch.float64)\nanalytical:tensor([[-5.8969e-03, -9.9998e-01,  3.1804e-03,  ...,  4.6177e-05,\n          3.4821e-05,  1.3579e-07],\n        [-1.0282e-02, -3.1191e-03, -9.9995e-01,  ..., -5.9665e-05,\n          5.3867e-05,  1.8906e-06],\n        [ 1.8334e-06, -5.1242e-03,  2.9816e-03,  ..., -7.6937e-05,\n         -1.8028e-05,  6.0946e-07],\n        ...,\n        [ 9.6899e-07, -4.7181e-05, -6.7861e-05,  ..., -5.1301e-03,\n          1.2228e-02,  2.8861e-03],\n        [-6.9706e-08, -4.4127e-05,  5.7611e-05,  ...,  9.9999e-01,\n          2.2483e-03,  3.8414e-03],\n        [-1.2943e-06, -3.4027e-05, -5.5952e-05,  ..., -2.2498e-03,\n          1.0000e+00,  4.1845e-04]], dtype=torch.float64)\n"
     ]
    }
   ],
   "source": [
    "n = 16\n",
    "device = 'cpu'\n",
    "g = SO(n,device=device)\n",
    "w = torch.randn(g.gdim,requires_grad=True,dtype=torch.double,device=device)*1e-2\n",
    "torch.autograd.gradcheck(g.element,w)"
   ]
  },
  {
   "cell_type": "code",
   "execution_count": 122,
   "metadata": {},
   "outputs": [
    {
     "name": "stdout",
     "output_type": "stream",
     "text": [
      "While considering the imaginary part of complex outputs only, Jacobian mismatch for output 0 with respect to input 0,\n",
      "numerical:tensor([[0.+0.j, 0.+0.j, 0.+0.j,  ..., 0.+0.j, 0.+0.j, 0.+0.j],\n",
      "        [0.+0.j, 0.+0.j, 0.+0.j,  ..., 0.+0.j, 0.+0.j, 0.+0.j],\n",
      "        [0.+0.j, 0.+0.j, 0.+0.j,  ..., 0.+0.j, 0.+0.j, 0.+0.j],\n",
      "        ...,\n",
      "        [0.+0.j, 0.+0.j, 0.+0.j,  ..., 0.+0.j, 0.+0.j, 0.+0.j],\n",
      "        [0.+0.j, 0.+0.j, 0.+0.j,  ..., 0.+0.j, 0.+0.j, 0.+0.j],\n",
      "        [0.+0.j, 0.+0.j, 0.+0.j,  ..., 0.+0.j, 0.+0.j, 0.+0.j]],\n",
      "       device='cuda:0', dtype=torch.complex128)\n",
      "analytical:tensor([[-1.2511e-34+5.3906e-34j, -9.5605e-36-8.5180e-36j,\n",
      "         -6.6165e-38+5.7559e-39j,  ...,\n",
      "          0.0000e+00-0.0000e+00j,  0.0000e+00-0.0000e+00j,\n",
      "          0.0000e+00-0.0000e+00j],\n",
      "        [ 4.8671e-33-7.1404e-34j, -1.1773e-34+5.0727e-34j,\n",
      "         -8.9865e-36-8.0065e-36j,  ...,\n",
      "          0.0000e+00-0.0000e+00j,  0.0000e+00-0.0000e+00j,\n",
      "          0.0000e+00-0.0000e+00j],\n",
      "        [ 3.3211e-31+2.5767e-31j,  4.5765e-33-6.7134e-34j,\n",
      "         -1.1058e-34+4.7645e-34j,  ...,\n",
      "          0.0000e+00-0.0000e+00j,  0.0000e+00-0.0000e+00j,\n",
      "          0.0000e+00-0.0000e+00j],\n",
      "        ...,\n",
      "        [ 0.0000e+00-0.0000e+00j,  0.0000e+00-0.0000e+00j,\n",
      "          0.0000e+00-0.0000e+00j,  ...,\n",
      "          1.1058e-34+4.7645e-34j, -4.5765e-33-6.7134e-34j,\n",
      "         -3.3211e-31+2.5767e-31j],\n",
      "        [ 0.0000e+00-0.0000e+00j,  0.0000e+00-0.0000e+00j,\n",
      "          0.0000e+00-0.0000e+00j,  ...,\n",
      "          8.9865e-36-8.0065e-36j,  1.1773e-34+5.0727e-34j,\n",
      "         -4.8671e-33-7.1404e-34j],\n",
      "        [ 0.0000e+00-0.0000e+00j,  0.0000e+00-0.0000e+00j,\n",
      "          0.0000e+00-0.0000e+00j,  ...,\n",
      "          6.6165e-38+5.7559e-39j,  9.5605e-36-8.5180e-36j,\n",
      "          1.2511e-34+5.3906e-34j]], device='cuda:0', dtype=torch.complex128)\n",
      "\n"
     ]
    }
   ],
   "source": [
    "n = 33\n",
    "device = 'cuda'\n",
    "g = GW()\n",
    "w = torch.randn(n,requires_grad=True,dtype=torch.double,device=device) +0j\n",
    "w[1:] = w[1:] + 1j*torch.randn(n-1,requires_grad=True,dtype=torch.double,device=device)\n",
    "w[1:] = w[1:]/torch.arange(1,n,dtype=torch.double,device=device)**2\n",
    "w[4:] = 0\n",
    "w = torch.cat([w[1:].flip([-1]).conj(),w])*1e-3\n",
    "\n",
    "try:\n",
    "    torch.autograd.gradcheck(g.element,w,atol=1e-2,rtol=1e-1)\n",
    "except RuntimeError as e:\n",
    "    print(e)"
   ]
  },
  {
   "cell_type": "code",
   "execution_count": 123,
   "metadata": {},
   "outputs": [
    {
     "data": {
      "text/plain": [
       "tensor(1.4419e-14, dtype=torch.float64)"
      ]
     },
     "execution_count": 123,
     "metadata": {},
     "output_type": "execute_result"
    }
   ],
   "source": [
    "n = 16\n",
    "g = SO(n)\n",
    "w1 = torch.randn(g.gdim,dtype=torch.double)\n",
    "w2 = torch.randn(g.gdim,dtype=torch.double)\n",
    "l1 = g.algebra(w1)\n",
    "l2 = g.algebra(w2)\n",
    "\n",
    "c_al = l1@l2-l2@l1\n",
    "\n",
    "ad = g.adjoint(w1)\n",
    "w = ad@w2\n",
    "c_ad = g.algebra(w)\n",
    "\n",
    "torch.dist(c_al,c_ad)"
   ]
  },
  {
   "cell_type": "code",
   "execution_count": 124,
   "metadata": {},
   "outputs": [
    {
     "ename": "KeyboardInterrupt",
     "evalue": "",
     "output_type": "error",
     "traceback": [
      "\u001b[0;31m---------------------------------------------------------------------------\u001b[0m",
      "\u001b[0;31mKeyboardInterrupt\u001b[0m                         Traceback (most recent call last)",
      "Cell \u001b[0;32mIn[124], line 5\u001b[0m\n\u001b[1;32m      3\u001b[0m dtype \u001b[39m=\u001b[39m torch\u001b[39m.\u001b[39mdouble\n\u001b[1;32m      4\u001b[0m device \u001b[39m=\u001b[39m \u001b[39m'\u001b[39m\u001b[39mcuda\u001b[39m\u001b[39m'\u001b[39m\n\u001b[0;32m----> 5\u001b[0m g \u001b[39m=\u001b[39m SO(n,device\u001b[39m=\u001b[39;49mdevice)\n",
      "Cell \u001b[0;32mIn[117], line 24\u001b[0m, in \u001b[0;36mSO.__init__\u001b[0;34m(self, n, device)\u001b[0m\n\u001b[1;32m     22\u001b[0m \u001b[39mself\u001b[39m\u001b[39m.\u001b[39m__index_ad \u001b[39m=\u001b[39m torch\u001b[39m.\u001b[39mzeros(\u001b[39mself\u001b[39m\u001b[39m.\u001b[39mgdim,\u001b[39mself\u001b[39m\u001b[39m.\u001b[39mgdim,dtype\u001b[39m=\u001b[39mtorch\u001b[39m.\u001b[39mlong,device\u001b[39m=\u001b[39mdevice)\n\u001b[1;32m     23\u001b[0m \u001b[39mfor\u001b[39;00m i \u001b[39min\u001b[39;00m \u001b[39mrange\u001b[39m(\u001b[39mself\u001b[39m\u001b[39m.\u001b[39mgdim):\n\u001b[0;32m---> 24\u001b[0m     ad[i] \u001b[39m=\u001b[39m \u001b[39mself\u001b[39m\u001b[39m.\u001b[39mvectorize(al[i]\u001b[39m@al\u001b[39m\u001b[39m-\u001b[39mal\u001b[39m@al\u001b[39;49m[i])\u001b[39m.\u001b[39mtranspose(\u001b[39m-\u001b[39m\u001b[39m2\u001b[39m,\u001b[39m-\u001b[39m\u001b[39m1\u001b[39m)\n\u001b[1;32m     25\u001b[0m     \u001b[39mself\u001b[39m\u001b[39m.\u001b[39m__index_ad[ad[i]\u001b[39m!=\u001b[39m\u001b[39m0\u001b[39m] \u001b[39m=\u001b[39m i\n\u001b[1;32m     27\u001b[0m \u001b[39mself\u001b[39m\u001b[39m.\u001b[39m__coef_ad \u001b[39m=\u001b[39m ad\u001b[39m.\u001b[39msum(\u001b[39m0\u001b[39m)\u001b[39m.\u001b[39mto(dtype\u001b[39m=\u001b[39mtorch\u001b[39m.\u001b[39mdouble,device\u001b[39m=\u001b[39mdevice)\n",
      "\u001b[0;31mKeyboardInterrupt\u001b[0m: "
     ]
    }
   ],
   "source": [
    "n = 35\n",
    "batch = 256\n",
    "dtype = torch.double\n",
    "device = 'cuda'\n",
    "g = SO(n,device=device)"
   ]
  },
  {
   "cell_type": "code",
   "execution_count": 52,
   "metadata": {},
   "outputs": [
    {
     "name": "stdout",
     "output_type": "stream",
     "text": [
      "tensor([[-0.1089, -0.0238,  0.0203,  ..., -0.4617, -0.2534, -0.1915],\n",
      "        [-0.8672,  0.3930, -0.1102,  ...,  0.0428,  0.2602, -0.9593],\n",
      "        [ 0.5985,  0.1622,  0.1053,  ...,  0.1972,  0.2944, -0.2771],\n",
      "        ...,\n",
      "        [-0.3459, -0.1368, -0.4822,  ...,  0.7324,  0.0742,  0.0045],\n",
      "        [-0.0965, -0.0478,  0.0599,  ..., -0.4932, -0.3087,  0.4541],\n",
      "        [ 0.6555,  0.2391, -0.8157,  ..., -0.0915, -1.3080,  0.5998]],\n",
      "       device='cuda:0', dtype=torch.float64)\n"
     ]
    }
   ],
   "source": [
    "w = torch.randn(batch,g.gdim,requires_grad=True,dtype=dtype,device=device)\n",
    "A = g.element(w)\n",
    "\n",
    "x = torch.randn(batch,g.mdim,10,dtype=dtype,device=device)\n",
    "y = torch.randn(batch,g.mdim,10,dtype=dtype,device=device)\n",
    "loss = torch.dist(y,A@x)\n",
    "loss.backward()\n",
    "print(w.grad)"
   ]
  },
  {
   "cell_type": "code",
   "execution_count": 5,
   "metadata": {},
   "outputs": [
    {
     "name": "stdout",
     "output_type": "stream",
     "text": [
      "2464829921.0388393\r"
     ]
    }
   ],
   "source": [
    "n = 2049\n",
    "batch = 256\n",
    "device = 'cuda'\n",
    "dtype = torch.complex128\n",
    "g = GW()\n",
    "w = torch.nn.Parameter(torch.zeros(n,dtype=dtype,device=device))\n",
    "x = torch.randn(batch,2*n-1,10,dtype=dtype,device=device)\n",
    "w_ = torch.randn(n,device=device,dtype=dtype)/torch.arange(1,n+1,device=device)**2*1e-3\n",
    "A = g.element(torch.cat([w_[1:].flip([-1]).conj(),w_[:1].real+0j,w_[1:]]))\n",
    "y = A@x\n",
    "optimizer = torch.optim.Adam([w],lr=1e-4)\n",
    "\n",
    "# w[1:] = w[1:] + 1j*torch.randn(n-1,requires_grad=True,dtype=torch.double,device=device)\n",
    "# w[1:] = w[1:]/torch.arange(1,n,dtype=torch.double,device=device)\n",
    "for i in range(1000):\n",
    "    A = g.element(torch.cat([w[1:].flip([-1]).conj(),w[:1].real+0j,w[1:]]))\n",
    "    loss = torch.dist(y,A@x)\n",
    "    print(f'{loss}\\r', end='')\n",
    "    loss.backward()\n",
    "    optimizer.step()\n",
    "    optimizer.zero_grad()"
   ]
  }
 ],
 "metadata": {
  "kernelspec": {
   "display_name": ".venv",
   "language": "python",
   "name": "python3"
  },
  "language_info": {
   "codemirror_mode": {
    "name": "ipython",
    "version": 3
   },
   "file_extension": ".py",
   "mimetype": "text/x-python",
   "name": "python",
   "nbconvert_exporter": "python",
   "pygments_lexer": "ipython3",
   "version": "3.8.10"
  },
  "orig_nbformat": 4
 },
 "nbformat": 4,
 "nbformat_minor": 2
}
